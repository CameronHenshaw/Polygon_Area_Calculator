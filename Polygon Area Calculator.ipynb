{
 "cells": [
  {
   "cell_type": "markdown",
   "metadata": {},
   "source": [
    "# Polygon Area Calculator\n",
    "\n",
    "This project is from the freecodecamp.com course \"Scientific Computing with Python.\" Check out the readme for the exact project specifications."
   ]
  },
  {
   "cell_type": "code",
   "execution_count": 1,
   "metadata": {},
   "outputs": [],
   "source": [
    "class Rectangle():\n",
    "    def __init__(self, width=0, height=0): #initializing and setting width and height\n",
    "        self.width = width\n",
    "        self.height = height\n",
    "    \n",
    "    def set_width(self, width):\n",
    "        self.width = width\n",
    "        \n",
    "    def set_height(self, height):\n",
    "        self.height = height\n",
    "        \n",
    "    def get_area(self):\n",
    "        self.area = self.width * self.height\n",
    "        return self.area\n",
    "        \n",
    "    def get_perimeter(self):\n",
    "        self.perimeter = 2 * self.width + 2 * self.height\n",
    "        return self.perimeter\n",
    "    \n",
    "    def get_diagonal(self):\n",
    "        self.diagonal = (self.width ** 2 + self.height ** 2) ** .5\n",
    "        return self.diagonal\n",
    "    \n",
    "    def get_picture(self): #outputs *s to form a picture\n",
    "        line = 1\n",
    "        output = \"\"\n",
    "        if self.width > 50 or self.height>50:\n",
    "            return \"Too big for picture.\"\n",
    "        while line <= self.height: # loops repeats for number of lines\n",
    "            output += \"*\" * self.width + \"\\n\"\n",
    "            line += 1\n",
    "        return output\n",
    "    \n",
    "    def get_amount_inside(self, new_shape): #function takes a new shape, outputs how many times the new shape would fit in it\n",
    "        w_amount = self.width // new_shape.width\n",
    "        h_amount = self.height // new_shape.height\n",
    "        return w_amount * h_amount\n",
    "    \n",
    "    def __str__(self):\n",
    "        self.str = \"Rectangle(width={:d}, height={:d})\".format(int(self.width), int(self.height))\n",
    "        return self.str\n",
    "    \n",
    "class Square(Rectangle):\n",
    "    def __init__(self, side):\n",
    "        self.width = side\n",
    "        self.height = side\n",
    "        \n",
    "    def set_side(self, side):\n",
    "        self.width = side\n",
    "        self.height = side\n",
    "        \n",
    "    def __str__(self):\n",
    "        self.str = \"Square(side={:d})\".format(int(self.width))\n",
    "        return self.str\n",
    "            "
   ]
  },
  {
   "cell_type": "code",
   "execution_count": 6,
   "metadata": {},
   "outputs": [
    {
     "name": "stdout",
     "output_type": "stream",
     "text": [
      "Rectangle(width=4, height=8)\n",
      "50\n",
      "26\n",
      "Rectangle(width=10, height=3)\n",
      "**********\n",
      "**********\n",
      "**********\n",
      "\n",
      "81\n",
      "5.656854249492381\n",
      "Square(side=4)\n",
      "****\n",
      "****\n",
      "****\n",
      "****\n",
      "\n",
      "8\n"
     ]
    }
   ],
   "source": [
    "rect = Rectangle()\n",
    "rect.set_height(8)\n",
    "rect.set_width(4)\n",
    "rect.get_area()\n",
    "a = rect.get_perimeter()\n",
    "b = rect.get_diagonal()\n",
    "x = rect.get_picture()\n",
    "print(rect)\n",
    "\n",
    "rect = Rectangle(10, 5)\n",
    "print(rect.get_area())\n",
    "rect.set_height(3)\n",
    "print(rect.get_perimeter())\n",
    "print(rect)\n",
    "print(rect.get_picture())\n",
    " \n",
    "sq = Square(9)\n",
    "print(sq.get_area())\n",
    "sq.set_side(4)\n",
    "print(sq.get_diagonal())\n",
    "print(sq)\n",
    "print(sq.get_picture())\n",
    " \n",
    "rect.set_height(8)\n",
    "rect.set_width(16)\n",
    "print(rect.get_amount_inside(sq))"
   ]
  },
  {
   "cell_type": "code",
   "execution_count": null,
   "metadata": {},
   "outputs": [],
   "source": []
  },
  {
   "cell_type": "code",
   "execution_count": null,
   "metadata": {},
   "outputs": [],
   "source": []
  }
 ],
 "metadata": {
  "kernelspec": {
   "display_name": "Python 3",
   "language": "python",
   "name": "python3"
  },
  "language_info": {
   "codemirror_mode": {
    "name": "ipython",
    "version": 3
   },
   "file_extension": ".py",
   "mimetype": "text/x-python",
   "name": "python",
   "nbconvert_exporter": "python",
   "pygments_lexer": "ipython3",
   "version": "3.7.4"
  }
 },
 "nbformat": 4,
 "nbformat_minor": 2
}
